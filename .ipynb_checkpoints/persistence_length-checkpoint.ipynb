{
 "cells": [
  {
   "cell_type": "code",
   "execution_count": 1,
   "id": "a9f7977a-591f-4191-afd1-a3c74ff8bd35",
   "metadata": {
    "scrolled": true
   },
   "outputs": [
    {
     "name": "stderr",
     "output_type": "stream",
     "text": [
      "/Users/Madilyn/miniconda3/envs/cmeutils/lib/python3.11/site-packages/mdtraj/formats/__init__.py:6: DeprecationWarning: 'xdrlib' is deprecated and slated for removal in Python 3.13\n",
      "  from .xtc import XTCTrajectoryFile\n",
      "/Users/Madilyn/miniconda3/envs/cmeutils/lib/python3.11/site-packages/mdtraj/geometry/order.py:25: DeprecationWarning: pkg_resources is deprecated as an API. See https://setuptools.pypa.io/en/latest/pkg_resources.html\n",
      "  from pkg_resources import parse_version\n",
      "/Users/Madilyn/miniconda3/envs/cmeutils/lib/python3.11/site-packages/pkg_resources/__init__.py:2868: DeprecationWarning: Deprecated call to `pkg_resources.declare_namespace('google')`.\n",
      "Implementing implicit namespace packages (as specified in PEP 420) is preferred to `pkg_resources.declare_namespace`. See https://setuptools.pypa.io/en/latest/references/keywords.html#keyword-namespace-packages\n",
      "  declare_namespace(pkg)\n",
      "/Users/Madilyn/miniconda3/envs/cmeutils/lib/python3.11/site-packages/lark/utils.py:163: DeprecationWarning: module 'sre_parse' is deprecated\n",
      "  import sre_parse\n",
      "/Users/Madilyn/miniconda3/envs/cmeutils/lib/python3.11/site-packages/lark/utils.py:164: DeprecationWarning: module 'sre_constants' is deprecated\n",
      "  import sre_constants\n",
      "/Users/Madilyn/miniconda3/envs/cmeutils/lib/python3.11/site-packages/mbuild/recipes/__init__.py:13: DeprecationWarning: SelectableGroups dict interface is deprecated. Use select.\n",
      "  entry_points = metadata.entry_points()[\"mbuild.plugins\"]\n",
      "Warning on use of the timeseries module: If the inherent timescales of the system are long compared to those being analyzed, this statistical inefficiency may be an underestimate.  The estimate presumes the use of many statistically independent samples.  Tests should be performed to assess whether this condition is satisfied.   Be cautious in the interpretation of the data.\n",
      "/Users/Madilyn/miniconda3/envs/cmeutils/lib/python3.11/site-packages/pymbar/mbar_solvers.py:21: DeprecationWarning: Accessing jax.config via the jax.config submodule is deprecated.\n",
      "  from jax.config import config\n",
      "\n",
      "****** PyMBAR will use 64-bit JAX! *******\n",
      "* JAX is currently set to 32-bit bitsize *\n",
      "* which is its default.                  *\n",
      "*                                        *\n",
      "* PyMBAR requires 64-bit mode and WILL   *\n",
      "* enable JAX's 64-bit mode when called.  *\n",
      "*                                        *\n",
      "* This MAY cause problems with other     *\n",
      "* Uses of JAX in the same code.          *\n",
      "******************************************\n",
      "\n",
      "/Users/Madilyn/miniconda3/envs/cmeutils/lib/python3.11/site-packages/tqdm/auto.py:21: TqdmWarning: IProgress not found. Please update jupyter and ipywidgets. See https://ipywidgets.readthedocs.io/en/stable/user_install.html\n",
      "  from .autonotebook import tqdm as notebook_tqdm\n"
     ]
    }
   ],
   "source": [
    "import mbuild as mb\n",
    "from cmeutils.sampling import is_equilibrated, equil_sample\n",
    "import gsd.hoomd\n",
    "import numpy as np\n",
    "import glob\n",
    "import MDAnalysis as mda\n",
    "from MDAnalysis.analysis import polymer\n",
    "import matplotlib.pyplot as plt\n",
    "import scipy\n",
    "\n",
    "def autocorr1D(array):\n",
    "    \"\"\"\n",
    "    Takes in a linear np array, performs autocorrelation\n",
    "    function and returns normalized array with half the length\n",
    "    of the input\n",
    "    \"\"\"\n",
    "    ft = np.fft.rfft(array - np.average(array))\n",
    "    acorr = np.fft.irfft(ft * np.conjugate(ft)) / (len(array) * np.var(array))\n",
    "    return acorr[0 : len(acorr) // 2]"
   ]
  },
  {
   "cell_type": "markdown",
   "id": "03ef0ab5-fcb7-4e9e-a996-d6c4d39e6f2d",
   "metadata": {
    "jp-MarkdownHeadingCollapsed": true
   },
   "source": [
    "### mdanalysis"
   ]
  },
  {
   "cell_type": "code",
   "execution_count": null,
   "id": "230c7053-1668-4d9b-967c-45dca76a1ac6",
   "metadata": {},
   "outputs": [],
   "source": [
    "u = mda.Universe('pcpdtpthd_cgtraj.gsd')\n",
    " \n",
    "chains = u.atoms.fragments\n",
    "\n",
    "plen = polymer.PersistenceLength(chains)\n",
    "plen.run(start=-10,stop=-1,step=20)\n",
    "\n",
    "print('The persistence length is {}'.format(plen.lp))\n",
    "\n",
    "plen.plot()"
   ]
  },
  {
   "cell_type": "code",
   "execution_count": null,
   "id": "fe7fcd68-ed79-4ff8-b9f1-83a6ed1a58e8",
   "metadata": {},
   "outputs": [],
   "source": [
    "len(plen.results.x)"
   ]
  },
  {
   "cell_type": "markdown",
   "id": "e6afb43c-c241-4ea3-8dc6-837e9c427fb6",
   "metadata": {},
   "source": [
    "### Our Function:"
   ]
  },
  {
   "cell_type": "code",
   "execution_count": null,
   "id": "00b63565-e0dc-4e48-aba5-8985b17b92df",
   "metadata": {},
   "outputs": [],
   "source": []
  },
  {
   "cell_type": "code",
   "execution_count": null,
   "id": "d36a0fbf-e480-4efe-9f8e-61759f612c1f",
   "metadata": {},
   "outputs": [],
   "source": [
    "u = mda.Universe('pcpdtpthd_cgtraj.gsd')\n",
    "\n",
    "\"\"\"rewrite atom indices\"\"\"\n",
    "bond_indices = []\n",
    "particle_index = [0]\n",
    "for i in range(len(u.bonds)):\n",
    "    a = u.bonds[i].atoms.indices\n",
    "    bond_indices.append(list(a))\n",
    "    if particle_index[-1] in bond_indices[i]:\n",
    "        atom1 = bond_indices[i][0]\n",
    "        atom2 = bond_indices[i][1]\n",
    "        if atom1 not in particle_index:\n",
    "            particle_index.append(atom1)\n",
    "        if atom2 not in particle_index:\n",
    "            particle_index.append(atom2)\n",
    "\n",
    "\n",
    "\"\"\"create bonds list\"\"\"\n",
    "av = []\n",
    "bond_len = []\n",
    "for t in u.trajectory[60::200]:\n",
    "    particle_positions = []\n",
    "    bonds = []\n",
    "    bond_lengths = []\n",
    "    # C_n = <b_i*b_n>\n",
    "    angles = []\n",
    "\n",
    "    \n",
    "    \n",
    "    for i in particle_index:\n",
    "        pos = t.positions[i]\n",
    "        particle_positions.append(pos)\n",
    "    for i in range(len(u.bonds)):\n",
    "        b = particle_positions[i+1]-particle_positions[i]\n",
    "        a = b/np.linalg.norm(b)\n",
    "        bonds.append(a)\n",
    "        length = np.linalg.norm(b)\n",
    "        bond_lengths.append(length)\n",
    "        #l_b = np.mean(bond_lengths)\n",
    "    bond_len.append(bond_lengths)\n",
    "    \n",
    "    for i in range(len(bonds)-1):\n",
    "        b1 = bonds[0]\n",
    "        b2 = bonds[0+i]\n",
    "        dot_product = np.dot(b1,b2)\n",
    "        angles.append(dot_product)\n",
    "    \n",
    "    n=len(u.atoms)\n",
    "    n_frames = 1\n",
    "    n_chains = 1\n",
    "    norm = np.linspace(n - 1, 1, n - 1)\n",
    "    norm *= n_chains * n_frames\n",
    "    auto = autocorr1D(angles)\n",
    "    av.append(auto)\n",
    "sums = []\n",
    "for j in range(len(av[0])):\n",
    "    k = []\n",
    "    for i in range(len(av)):\n",
    "        a = av[i][j]\n",
    "        k.append(a)\n",
    "    sum = np.sum(k)\n",
    "    sums.append(sum)\n",
    "l_b = np.average(bond_len)\n",
    "result = [x/len(av) for x in sums]\n",
    "x = [i for i in range(len(sums))]\n",
    "for r in range(len(result)):\n",
    "    if result[r] < 0:\n",
    "        result[r] = 0\n",
    "plt.plot(x[:100],result[:100])"
   ]
  },
  {
   "cell_type": "code",
   "execution_count": null,
   "id": "a39173c7-5f8c-4b57-a846-f820d9d32ece",
   "metadata": {},
   "outputs": [],
   "source": [
    "def expfunc(x, a):\n",
    "        return np.exp(-x/a)\n",
    "\n",
    "exp_coeff = scipy.optimize.curve_fit(expfunc,x,result)[0][0]\n",
    "\n",
    "l_p = exp_coeff * l_b\n",
    "print(l_p)"
   ]
  },
  {
   "cell_type": "code",
   "execution_count": null,
   "id": "e7a9ca09-ef9e-4122-b0e2-39165fe1eaea",
   "metadata": {},
   "outputs": [],
   "source": [
    "fit = np.exp(-(x/exp_coeff))\n",
    "plt.plot(result[:100])\n",
    "plt.plot(fit[:100])"
   ]
  },
  {
   "cell_type": "code",
   "execution_count": 6,
   "id": "e51007e6-d4c2-46e1-9819-a2c8a77da4b6",
   "metadata": {},
   "outputs": [
    {
     "data": {
      "application/3dmoljs_load.v0": "<div id=\"3dmolviewer_1727132049456119\"  style=\"position: relative; width: 640px; height: 480px;\">\n        <p id=\"3dmolwarning_1727132049456119\" style=\"background-color:#ffcccc;color:black\">3Dmol.js failed to load for some reason.  Please check your browser console for error messages.<br></p>\n        </div>\n<script>\n\nvar loadScriptAsync = function(uri){\n  return new Promise((resolve, reject) => {\n    //this is to ignore the existence of requirejs amd\n    var savedexports, savedmodule;\n    if (typeof exports !== 'undefined') savedexports = exports;\n    else exports = {}\n    if (typeof module !== 'undefined') savedmodule = module;\n    else module = {}\n\n    var tag = document.createElement('script');\n    tag.src = uri;\n    tag.async = true;\n    tag.onload = () => {\n        exports = savedexports;\n        module = savedmodule;\n        resolve();\n    };\n  var firstScriptTag = document.getElementsByTagName('script')[0];\n  firstScriptTag.parentNode.insertBefore(tag, firstScriptTag);\n});\n};\n\nif(typeof $3Dmolpromise === 'undefined') {\n$3Dmolpromise = null;\n  $3Dmolpromise = loadScriptAsync('https://cdnjs.cloudflare.com/ajax/libs/3Dmol/2.4.0/3Dmol-min.js');\n}\n\nvar viewer_1727132049456119 = null;\nvar warn = document.getElementById(\"3dmolwarning_1727132049456119\");\nif(warn) {\n    warn.parentNode.removeChild(warn);\n}\n$3Dmolpromise.then(function() {\nviewer_1727132049456119 = $3Dmol.createViewer(document.getElementById(\"3dmolviewer_1727132049456119\"),{backgroundColor:\"white\"});\nviewer_1727132049456119.zoomTo();\n\tviewer_1727132049456119.addModel(\"@<TRIPOS>MOLECULE\\nRES\\n12 12 1 0 1\\nSMALL\\nNO_CHARGES\\n@<TRIPOS>CRYSIN\\n    9.3455     9.9325     5.5369    90.0000    90.0000    90.0000 1 1\\n@<TRIPOS>ATOM\\n       1 C           -1.2250     0.6633    -0.1287 C             1 RES     \\n       2 C           -1.1950    -0.7272     0.0226 C             1 RES     \\n       3 C            0.0300    -1.3905     0.1513 C             1 RES     \\n       4 C            1.2250    -0.6633     0.1287 C             1 RES     \\n       5 C            1.1950     0.7272    -0.0226 C             1 RES     \\n       6 C           -0.0300     1.3905    -0.1513 C             1 RES     \\n       7 H           -2.1728     1.1765    -0.2283 H             1 RES     \\n       8 H           -2.1195    -1.2897     0.0401 H             1 RES     \\n       9 H            0.0533    -2.4662     0.2684 H             1 RES     \\n      10 H            2.1728    -1.1765     0.2283 H             1 RES     \\n      11 H            2.1195     1.2897    -0.0401 H             1 RES     \\n      12 H           -0.0533     2.4662    -0.2684 H             1 RES     \\n@<TRIPOS>BOND\\n       1        1        2 1\\n       2        1        6 1\\n       3        1        7 1\\n       4        2        3 1\\n       5        2        8 1\\n       6        3        4 1\\n       7        3        9 1\\n       8        4        5 1\\n       9        4       10 1\\n      10        5        6 1\\n      11        5       11 1\\n      12        6       12 1\\n@<TRIPOS>SUBSTRUCTURE\\n       1 RES             1 RESIDUE    0 **** ROOT      0\\n\",\"mol2\");\n\tviewer_1727132049456119.setStyle({\"stick\": {\"radius\": 0.2, \"color\": \"grey\"}, \"sphere\": {\"scale\": 0.3, \"colorscheme\": {}}});\n\tviewer_1727132049456119.zoomTo();\nviewer_1727132049456119.render();\n});\n</script>",
      "text/html": [
       "<div id=\"3dmolviewer_1727132049456119\"  style=\"position: relative; width: 640px; height: 480px;\">\n",
       "        <p id=\"3dmolwarning_1727132049456119\" style=\"background-color:#ffcccc;color:black\">3Dmol.js failed to load for some reason.  Please check your browser console for error messages.<br></p>\n",
       "        </div>\n",
       "<script>\n",
       "\n",
       "var loadScriptAsync = function(uri){\n",
       "  return new Promise((resolve, reject) => {\n",
       "    //this is to ignore the existence of requirejs amd\n",
       "    var savedexports, savedmodule;\n",
       "    if (typeof exports !== 'undefined') savedexports = exports;\n",
       "    else exports = {}\n",
       "    if (typeof module !== 'undefined') savedmodule = module;\n",
       "    else module = {}\n",
       "\n",
       "    var tag = document.createElement('script');\n",
       "    tag.src = uri;\n",
       "    tag.async = true;\n",
       "    tag.onload = () => {\n",
       "        exports = savedexports;\n",
       "        module = savedmodule;\n",
       "        resolve();\n",
       "    };\n",
       "  var firstScriptTag = document.getElementsByTagName('script')[0];\n",
       "  firstScriptTag.parentNode.insertBefore(tag, firstScriptTag);\n",
       "});\n",
       "};\n",
       "\n",
       "if(typeof $3Dmolpromise === 'undefined') {\n",
       "$3Dmolpromise = null;\n",
       "  $3Dmolpromise = loadScriptAsync('https://cdnjs.cloudflare.com/ajax/libs/3Dmol/2.4.0/3Dmol-min.js');\n",
       "}\n",
       "\n",
       "var viewer_1727132049456119 = null;\n",
       "var warn = document.getElementById(\"3dmolwarning_1727132049456119\");\n",
       "if(warn) {\n",
       "    warn.parentNode.removeChild(warn);\n",
       "}\n",
       "$3Dmolpromise.then(function() {\n",
       "viewer_1727132049456119 = $3Dmol.createViewer(document.getElementById(\"3dmolviewer_1727132049456119\"),{backgroundColor:\"white\"});\n",
       "viewer_1727132049456119.zoomTo();\n",
       "\tviewer_1727132049456119.addModel(\"@<TRIPOS>MOLECULE\\nRES\\n12 12 1 0 1\\nSMALL\\nNO_CHARGES\\n@<TRIPOS>CRYSIN\\n    9.3455     9.9325     5.5369    90.0000    90.0000    90.0000 1 1\\n@<TRIPOS>ATOM\\n       1 C           -1.2250     0.6633    -0.1287 C             1 RES     \\n       2 C           -1.1950    -0.7272     0.0226 C             1 RES     \\n       3 C            0.0300    -1.3905     0.1513 C             1 RES     \\n       4 C            1.2250    -0.6633     0.1287 C             1 RES     \\n       5 C            1.1950     0.7272    -0.0226 C             1 RES     \\n       6 C           -0.0300     1.3905    -0.1513 C             1 RES     \\n       7 H           -2.1728     1.1765    -0.2283 H             1 RES     \\n       8 H           -2.1195    -1.2897     0.0401 H             1 RES     \\n       9 H            0.0533    -2.4662     0.2684 H             1 RES     \\n      10 H            2.1728    -1.1765     0.2283 H             1 RES     \\n      11 H            2.1195     1.2897    -0.0401 H             1 RES     \\n      12 H           -0.0533     2.4662    -0.2684 H             1 RES     \\n@<TRIPOS>BOND\\n       1        1        2 1\\n       2        1        6 1\\n       3        1        7 1\\n       4        2        3 1\\n       5        2        8 1\\n       6        3        4 1\\n       7        3        9 1\\n       8        4        5 1\\n       9        4       10 1\\n      10        5        6 1\\n      11        5       11 1\\n      12        6       12 1\\n@<TRIPOS>SUBSTRUCTURE\\n       1 RES             1 RESIDUE    0 **** ROOT      0\\n\",\"mol2\");\n",
       "\tviewer_1727132049456119.setStyle({\"stick\": {\"radius\": 0.2, \"color\": \"grey\"}, \"sphere\": {\"scale\": 0.3, \"colorscheme\": {}}});\n",
       "\tviewer_1727132049456119.zoomTo();\n",
       "viewer_1727132049456119.render();\n",
       "});\n",
       "</script>"
      ]
     },
     "metadata": {},
     "output_type": "display_data"
    },
    {
     "data": {
      "text/plain": [
       "<py3Dmol.view at 0x16906ec10>"
      ]
     },
     "execution_count": 6,
     "metadata": {},
     "output_type": "execute_result"
    }
   ],
   "source": [
    "mb.load('c1ccccc1',smiles=True).visualize()"
   ]
  },
  {
   "cell_type": "code",
   "execution_count": null,
   "id": "388dd447-3ed0-4bc7-b372-c48aff1f9f08",
   "metadata": {},
   "outputs": [],
   "source": [
    "! conda install -c conda-forge py3Dmol -y"
   ]
  },
  {
   "cell_type": "code",
   "execution_count": null,
   "id": "8f86a474-1424-4200-9c16-bd5d5b3287da",
   "metadata": {},
   "outputs": [],
   "source": []
  }
 ],
 "metadata": {
  "kernelspec": {
   "display_name": "Python 3 (ipykernel)",
   "language": "python",
   "name": "python3"
  },
  "language_info": {
   "codemirror_mode": {
    "name": "ipython",
    "version": 3
   },
   "file_extension": ".py",
   "mimetype": "text/x-python",
   "name": "python",
   "nbconvert_exporter": "python",
   "pygments_lexer": "ipython3",
   "version": "3.11.7"
  }
 },
 "nbformat": 4,
 "nbformat_minor": 5
}
