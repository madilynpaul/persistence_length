{
 "cells": [
  {
   "cell_type": "code",
   "execution_count": 1,
   "id": "3aa886c0-24b0-44a5-a18c-6690ae8b1585",
   "metadata": {},
   "outputs": [],
   "source": [
    "from l_p import persistence_length\n",
    "import matplotlib.pyplot as plt\n",
    "import numpy as np\n",
    "import scipy\n",
    "\n"
   ]
  },
  {
   "cell_type": "code",
   "execution_count": 4,
   "id": "548ce6d4-51f6-4797-9df4-a72fb256d06e",
   "metadata": {},
   "outputs": [],
   "source": [
    "h = persistence_length(filepath=\"/Users/Madilyn/Projects/repos/pers_len_study/pcpdtpt_eneODD/cg-traj_test.gsd\",\n",
    "                       start=100,\n",
    "                      stop=-1,\n",
    "                      interval=10)\n",
    "l_p = h[0]\n",
    "l_b = h[1]\n",
    "x_values = h[2]\n",
    "C_n = h[3]\n",
    "exp_fit = h[4]\n"
   ]
  },
  {
   "cell_type": "code",
   "execution_count": 7,
   "id": "85ddd6a9-c815-4a5f-858b-00786484f0b2",
   "metadata": {},
   "outputs": [],
   "source": [
    "def get_decorr(acorr):\n",
    "    \"\"\"\n",
    "    Returns the decorrelation time of the autocorrelation, a 1D np array\n",
    "    \"\"\"\n",
    "    return np.argmin(acorr > 0)"
   ]
  },
  {
   "cell_type": "code",
   "execution_count": 16,
   "id": "75f87a33-e729-4c05-8942-e4c9a9421307",
   "metadata": {},
   "outputs": [
    {
     "data": {
      "text/plain": [
       "40"
      ]
     },
     "execution_count": 16,
     "metadata": {},
     "output_type": "execute_result"
    }
   ],
   "source": [
    "get_decorr(np.array(C_n))"
   ]
  },
  {
   "cell_type": "code",
   "execution_count": 11,
   "id": "3219fb39-edc7-42ca-ba27-88e056ca8d0d",
   "metadata": {},
   "outputs": [
    {
     "data": {
      "text/plain": [
       "50"
      ]
     },
     "execution_count": 11,
     "metadata": {},
     "output_type": "execute_result"
    }
   ],
   "source": [
    "get_decorr(np.array(C_n))"
   ]
  },
  {
   "cell_type": "code",
   "execution_count": 9,
   "id": "95fac573-64e4-4261-96f1-5ec1347ba6fa",
   "metadata": {},
   "outputs": [
    {
     "data": {
      "text/plain": [
       "29"
      ]
     },
     "execution_count": 9,
     "metadata": {},
     "output_type": "execute_result"
    }
   ],
   "source": [
    "get_decorr(np.array(C_n))"
   ]
  },
  {
   "cell_type": "code",
   "execution_count": 24,
   "id": "084489e1-fc3a-481c-a902-deaf22c2221d",
   "metadata": {},
   "outputs": [
    {
     "data": {
      "text/plain": [
       "[<matplotlib.lines.Line2D at 0x14e740f10>]"
      ]
     },
     "execution_count": 24,
     "metadata": {},
     "output_type": "execute_result"
    },
    {
     "data": {
      "image/png": "[encoded data removed]",
      "text/plain": [
       "<Figure size 640x480 with 1 Axes>"
      ]
     },
     "metadata": {},
     "output_type": "display_data"
    }
   ],
   "source": [
    "plt.plot(C_n)"
   ]
  },
  {
   "cell_type": "code",
   "execution_count": 22,
   "id": "d6aede6c-e2c2-4349-b0dc-932bb1685587",
   "metadata": {},
   "outputs": [
    {
     "data": {
      "text/plain": [
       "[<matplotlib.lines.Line2D at 0x14f777050>]"
      ]
     },
     "execution_count": 22,
     "metadata": {},
     "output_type": "execute_result"
    },
    {
     "data": {
      "image/png": "[encoded data removed]",
      "text/plain": [
       "<Figure size 640x480 with 1 Axes>"
      ]
     },
     "metadata": {},
     "output_type": "display_data"
    }
   ],
   "source": [
    "plt.plot(C_n)"
   ]
  },
  {
   "cell_type": "code",
   "execution_count": 15,
   "id": "558c583d-4006-4ce8-8180-08ef12fa465a",
   "metadata": {},
   "outputs": [
    {
     "name": "stdout",
     "output_type": "stream",
     "text": [
      "10\n",
      "11\n",
      "12\n",
      "13\n",
      "14\n",
      "15\n",
      "16\n",
      "17\n",
      "18\n",
      "19\n",
      "20\n",
      "21\n",
      "22\n",
      "23\n",
      "24\n",
      "25\n",
      "26\n",
      "27\n",
      "28\n"
     ]
    }
   ],
   "source": [
    "for i in range(len(C_n)):\n",
    "    if C_n[i] > 0:\n",
    "        continue\n",
    "    else:\n",
    "        print(i)"
   ]
  },
  {
   "cell_type": "code",
   "execution_count": null,
   "id": "7bf555c3-93a1-40db-a8c4-02614c71f76d",
   "metadata": {},
   "outputs": [],
   "source": [
    "l_p = 10"
   ]
  },
  {
   "cell_type": "code",
   "execution_count": null,
   "id": "5b7da2d2-c60f-40b3-ac9f-6f7370dbe2fa",
   "metadata": {},
   "outputs": [],
   "source": [
    "C_sigma = 0.36\n",
    "L_p = l_p * C_sigma * 10\n",
    "print( \"L_p=\",L_p,'angstroms')"
   ]
  },
  {
   "cell_type": "code",
   "execution_count": null,
   "id": "895999aa-ff4e-48b9-b654-dd397b74bf37",
   "metadata": {},
   "outputs": [],
   "source": [
    "print(C_n)"
   ]
  },
  {
   "cell_type": "code",
   "execution_count": null,
   "id": "c26677ec-52bf-4d68-9ee7-eb1b46a7cef5",
   "metadata": {},
   "outputs": [],
   "source": [
    "C_sigma = 0.36\n",
    "L_p = l_p * C_sigma * 10\n",
    "print( \"L_p=\",L_p,'angstroms')\n",
    "plt.plot(C_n)\n",
    "plt.plot(exp_fit)\n",
    "plt.legend()"
   ]
  },
  {
   "cell_type": "code",
   "execution_count": null,
   "id": "12b2178f-640b-4d8d-9d56-a4d2a7d1b962",
   "metadata": {},
   "outputs": [],
   "source": [
    "plt.plot(C_n)\n",
    "plt.plot(exp_fit)\n",
    "plt.legend()"
   ]
  },
  {
   "cell_type": "code",
   "execution_count": null,
   "id": "d98bdf82-c46b-4f86-bd5d-d7f9f5b87684",
   "metadata": {},
   "outputs": [],
   "source": [
    "a"
   ]
  },
  {
   "cell_type": "code",
   "execution_count": null,
   "id": "b4d414e5-feb1-4ffc-9dfc-8b1993ac419c",
   "metadata": {},
   "outputs": [],
   "source": [
    "angles = [1.0, 0.99964195, 0.99989444, 0.99980146, 0.9997368, 0.99956363, 0.99954313, 0.9990713]\n",
    "norm = np.linspace(1, 9-1, 9 - 1)\n",
    "result = angles /norm\n",
    "plt.plot(result)\n",
    "\n",
    "\n",
    "def expfunc(x, a):\n",
    "    return np.exp(-x/a)\n",
    "exp_coeff = scipy.optimize.curve_fit(expfunc,x,result)[0][0]\n",
    "#l_p = exp_coeff * l_b\n",
    "#fit = np.exp(-(x/exp_coeff))"
   ]
  },
  {
   "cell_type": "code",
   "execution_count": null,
   "id": "b4d1f4d9-2382-49e9-8899-fa71b430c986",
   "metadata": {},
   "outputs": [],
   "source": []
  },
  {
   "cell_type": "code",
   "execution_count": null,
   "id": "64956b79-41ec-42cd-9ee2-ecbbb63ce3a6",
   "metadata": {},
   "outputs": [],
   "source": []
  },
  {
   "cell_type": "code",
   "execution_count": null,
   "id": "15fb93e1-509b-47cb-a5dc-059719ef78b7",
   "metadata": {},
   "outputs": [],
   "source": [
    "a = [1.0, 1,1.6,1]"
   ]
  },
  {
   "cell_type": "code",
   "execution_count": null,
   "id": "7680e596-e84a-4c78-a4cc-d12d229c5d3c",
   "metadata": {},
   "outputs": [],
   "source": [
    "auto = autocorr1D(a)\n",
    "print(auto)"
   ]
  },
  {
   "cell_type": "code",
   "execution_count": null,
   "id": "c69ee0fc-0c15-446b-8e35-7f366e8f52ae",
   "metadata": {},
   "outputs": [],
   "source": [
    "ones = [1,1,1,1,1]"
   ]
  },
  {
   "cell_type": "code",
   "execution_count": null,
   "id": "7e9dc213-38ef-4562-83ca-3a33f7e064a2",
   "metadata": {},
   "outputs": [],
   "source": [
    "#define data\n",
    "angles = [1.0, 0.99964195, 0.99989444, 0.99980146, 0.9997368, 0.99956363, 0.99954313, 0.9990713]\n",
    "\n",
    "auto = autocorr1D(angles)\n",
    "print(auto)\n",
    "\n",
    "import statsmodels.api as sm\n",
    "\n",
    "#calculate autocorrelations\n",
    "y = sm.tsa.stattools.acf(angles)\n",
    "print(y)"
   ]
  },
  {
   "cell_type": "code",
   "execution_count": null,
   "id": "d7f4cf52-01df-4482-ada4-adf62bde88bb",
   "metadata": {},
   "outputs": [],
   "source": [
    "plt.plot(y)"
   ]
  },
  {
   "cell_type": "code",
   "execution_count": null,
   "id": "885752d9-5600-4a7e-a624-089c0f9aa934",
   "metadata": {},
   "outputs": [],
   "source": [
    "from statsmodels.graphics import tsaplots\n",
    "import matplotlib.pyplot as plt\n",
    "\n",
    "#plot autocorrelation function\n",
    "fig = tsaplots.plot_acf(a)\n",
    "plt.show()"
   ]
  },
  {
   "cell_type": "code",
   "execution_count": null,
   "id": "4f598d84-877c-4c28-a8bb-de458060efa0",
   "metadata": {},
   "outputs": [],
   "source": [
    "for b in unitbonds:\n",
    "    print(b)"
   ]
  },
  {
   "cell_type": "code",
   "execution_count": null,
   "id": "da9c185c-4850-4980-ac3e-8dbc9f27f240",
   "metadata": {},
   "outputs": [],
   "source": [
    "b_0 = [-0.7101347,   0.70292634, -0.04004075]\n",
    "b_1 = [-0.6947693,   0.71698296, -0.05684078]\n",
    "b_2 = [-0.7202886,   0.69254255, -0.03961267]"
   ]
  },
  {
   "cell_type": "code",
   "execution_count": null,
   "id": "dd84fd79-0b29-4b74-89ea-942b40c40cac",
   "metadata": {},
   "outputs": [],
   "source": [
    "np.dot(b_0,b_1)"
   ]
  },
  {
   "cell_type": "code",
   "execution_count": null,
   "id": "cdfed517-69ef-4693-aa7c-042a0b4020dc",
   "metadata": {},
   "outputs": [],
   "source": [
    "np.dot(b_0,b_2)"
   ]
  },
  {
   "cell_type": "code",
   "execution_count": null,
   "id": "7f4c3fa9-0f5d-4c1a-9a8c-7860a16fbf81",
   "metadata": {},
   "outputs": [],
   "source": [
    "n = 10\n",
    "norm = np.linspace(n - 1, 1, n - 1)\n",
    "norm *= 1* 21\n",
    "chainlength = 10\n",
    "results = np.zeros(chainlength - 1, dtype=np.float32)\n",
    "bond_autocorrelation = results / norm\n",
    "bond_autocorrelation\n",
    "for i in range(n-1):\n",
    "    results[:(n-1)-i] += inner_pr[i, i:]"
   ]
  },
  {
   "cell_type": "code",
   "execution_count": null,
   "id": "80406ea3-97c6-4b4d-bbc3-f3f0631dd316",
   "metadata": {},
   "outputs": [],
   "source": [
    "import MDAnalysis as mda\n",
    "from MDAnalysis.tests.datafiles import TRZ_psf, TRZ\n",
    "from MDAnalysis.analysis import polymer\n",
    "%matplotlib inline\n",
    "\n",
    "\n",
    "u = mda.Universe(topology='cg-traj.gsd')\n",
    "chains = u.atoms.fragments\n",
    "\n",
    "\n",
    "plen = polymer.PersistenceLength(chains)\n",
    "plen.run()\n",
    "plen.lp"
   ]
  },
  {
   "cell_type": "code",
   "execution_count": null,
   "id": "e7f8d8fb-f6a5-468f-9c74-90a5ba2af159",
   "metadata": {},
   "outputs": [],
   "source": [
    "plen.plot()"
   ]
  },
  {
   "cell_type": "code",
   "execution_count": null,
   "id": "7e4ad42e-3bd2-4d35-89c1-3a88a3d88e6e",
   "metadata": {},
   "outputs": [],
   "source": [
    "chains[0].positions"
   ]
  },
  {
   "cell_type": "code",
   "execution_count": null,
   "id": "a117f8a1-9e66-442a-9e5f-8dccfd9277e0",
   "metadata": {},
   "outputs": [],
   "source": [
    "for chain in chains:\n",
    "    vecs = chain.positions[1:] - chain.positions[:-1]\n",
    "            # Normalized to unit vectors\n",
    "    vecs /= np.sqrt((vecs * vecs).sum(axis=1))[:, None]\n",
    "\n",
    "    inner_pr = np.inner(vecs, vecs)\n",
    "    \n",
    "    n = len(chains[0])\n",
    "    _results = np.zeros(n - 1, dtype=np.float32)\n",
    "    print(vecs)\n",
    "    print(inner_pr)\n",
    "    \n",
    "    for i in range(n-1):\n",
    "        _results[:(n-1)-i] += inner_pr[i, i:]"
   ]
  },
  {
   "cell_type": "code",
   "execution_count": null,
   "id": "c86509ba-02dc-4e83-b213-825c50eb3684",
   "metadata": {},
   "outputs": [],
   "source": [
    "_results"
   ]
  },
  {
   "cell_type": "code",
   "execution_count": null,
   "id": "587990d4-c7da-49fa-8c9c-86f07f07662c",
   "metadata": {},
   "outputs": [],
   "source": [
    "n = len(chains[0])\n",
    "norm = np.linspace(n - 1, 1, n - 1)\n",
    "norm *= len(chains) * u.trajectory.n_frames\n",
    "bond_autocorrelation = _results / norm"
   ]
  },
  {
   "cell_type": "code",
   "execution_count": null,
   "id": "20c8fdd4-f7ce-40f2-8ec9-433e30e6f29c",
   "metadata": {},
   "outputs": [],
   "source": [
    "bond_autocorrelation"
   ]
  },
  {
   "cell_type": "code",
   "execution_count": null,
   "id": "bc987950-c358-44d7-b8a3-cd87cd11c2d1",
   "metadata": {},
   "outputs": [],
   "source": [
    "plt"
   ]
  },
  {
   "cell_type": "code",
   "execution_count": null,
   "id": "ef4cd479-2f32-4b11-82dc-bf0106f9394b",
   "metadata": {},
   "outputs": [],
   "source": [
    "def autocorr1D(array):\n",
    "    \"\"\"\n",
    "    Takes in a linear np array, performs autocorrelation\n",
    "    function and returns normalized array with half the length\n",
    "    of the input\n",
    "    \"\"\"\n",
    "    ft = np.fft.rfft(array - np.average(array))\n",
    "    acorr = np.fft.irfft(ft * np.conjugate(ft)) / (len(array) * np.var(array))\n",
    "    return acorr[0 : len(acorr) // 2]\n",
    "\n",
    "\n",
    "def get_decorr(acorr):\n",
    "    \"\"\"\n",
    "    Returns the decorrelation time of the autocorrelation, a 1D np array\n",
    "    \"\"\"\n",
    "    return np.argmin(acorr > 0)\n"
   ]
  },
  {
   "cell_type": "code",
   "execution_count": null,
   "id": "2659625e-f849-425c-92e3-a298c68c613f",
   "metadata": {},
   "outputs": [],
   "source": [
    "angles1 = [0.99999994, 1.0, 1.0, 1.0, 1.0, 1.0, 0.99999994, 1.0000001]\n",
    "auto = autocorr1D(angles1)"
   ]
  },
  {
   "cell_type": "code",
   "execution_count": null,
   "id": "b75a1be2-0a62-4643-9c80-626e4b6b09ce",
   "metadata": {},
   "outputs": [],
   "source": [
    "get_decorr(auto)"
   ]
  },
  {
   "cell_type": "code",
   "execution_count": null,
   "id": "48be0c3d-e225-47cd-96fa-5be13b7a82cc",
   "metadata": {},
   "outputs": [],
   "source": []
  },
  {
   "cell_type": "code",
   "execution_count": null,
   "id": "52ca3967-6e5f-4985-b8da-744b262294b8",
   "metadata": {},
   "outputs": [],
   "source": []
  },
  {
   "cell_type": "code",
   "execution_count": null,
   "id": "86fb9652-7b8c-4f12-9818-47ca3e083963",
   "metadata": {},
   "outputs": [],
   "source": [
    "import numpy as np\n",
    "import MDAnalysis as mda\n",
    "from MDAnalysis.analysis import polymer\n",
    "import matplotlib.pyplot as plt\n",
    "import scipy\n",
    "import statsmodels.api as sm\n",
    "\n",
    "#from cmeutils.sampling import autocorr1D\n",
    "\n",
    "def autocorr1D(array):\n",
    "    \"\"\"Takes in a linear np array, performs autocorrelation\n",
    "    function and returns normalized array with half the length\n",
    "    of the input.\n",
    "\n",
    "    Parameters\n",
    "    ----------\n",
    "    data : numpy.typing.Arraylike, required\n",
    "        1-D series of data to perform autocorrelation on.\n",
    "\n",
    "    Returns\n",
    "    -------\n",
    "    1D np.array\n",
    "\n",
    "    \"\"\"\n",
    "    ft = np.fft.rfft(array - np.average(array))\n",
    "    acorr = np.fft.irfft(ft * np.conjugate(ft)) / (len(array) * np.var(array))\n",
    "    return acorr[0 : len(acorr) // 2]  # noqa: E203\n",
    "\n",
    "def persistence_length(filepath,start,stop,interval):\n",
    "    \"\"\"\n",
    "    filepath needs to be a format in which you can\n",
    "    create an mdanalysis universe from, we mostly use gsd files\n",
    "    \"\"\"\n",
    "    u = mda.Universe(topology=filepath)\n",
    "\n",
    "    \"\"\"rewrite atom indices\"\"\"\n",
    "    bond_indices = []\n",
    "    particle_index = [0]\n",
    "    for i in range(len(u.bonds)):\n",
    "        a = u.bonds[i].atoms.indices\n",
    "        bond_indices.append(list(a))\n",
    "        if particle_index[-1] in bond_indices[i]:\n",
    "            atom1 = bond_indices[i][0]\n",
    "            atom2 = bond_indices[i][1]\n",
    "            if atom1 not in particle_index:\n",
    "                particle_index.append(atom1)\n",
    "            if atom2 not in particle_index:\n",
    "                particle_index.append(atom2)\n",
    " #   print(bond_indices)\n",
    "\n",
    "    \"\"\"create bonds list\"\"\"\n",
    "    autocorrelation = []\n",
    "    bond_len = []\n",
    "    for t in u.trajectory[start:stop:interval]:\n",
    "        particle_positions = []\n",
    "        bonds = []\n",
    "        unit_bonds = []\n",
    "        bond_lengths = []\n",
    "        angles = []\n",
    "\n",
    "        for i in particle_index:\n",
    "            pos = t.positions[i]\n",
    "            particle_positions.append(pos)\n",
    "        for i in range(len(u.bonds)):\n",
    "            b = particle_positions[i+1]-particle_positions[i]\n",
    "            bonds.append(b)\n",
    "            l2 = t.dimensions[0]/2\n",
    "            for i,b in enumerate(bonds):\n",
    "                for j,x in enumerate(b):\n",
    "                    if x>l2:\n",
    "                        bonds[i][j] = x-l2*2\n",
    "                    if x<-l2:\n",
    "                        bonds[i][j] = x+l2*2\n",
    "            a = b/np.linalg.norm(b)\n",
    "            unit_bonds.append(a)\n",
    "            length = np.linalg.norm(b)\n",
    "            bond_lengths.append(length)\n",
    "            #l_b = np.mean(bond_lengths)\n",
    "        bond_len.append(bond_lengths)\n",
    "\n",
    "\n",
    "\n",
    "        for i in range(len(unit_bonds)-10):\n",
    "            b1 = unit_bonds[10]\n",
    "            b2 = unit_bonds[10+i]\n",
    "            dot_product = np.dot(b1,b2)\n",
    "            angles.append(dot_product)\n",
    "\n",
    "        n=len(u.bonds)\n",
    "        n_frames = u.trajectory.n_frames\n",
    "        n_chains = 1\n",
    "        norm = np.linspace(1,n- 1, n - 1)\n",
    "        norm *= n_chains# * n_frames\n",
    "        #auto = autocorr1D(angles)\n",
    "        auto = sm.tsa.acf(angles)\n",
    "        autocorrelation.append(auto)\n",
    "        #autocorrelation.append(angles)#/norm)\n",
    "#        print(angles) \n",
    "\n",
    "    '''average the data from trajectories together'''\n",
    "    auto_average = []\n",
    "    for j in range(len(autocorrelation[0])):\n",
    "        k = []\n",
    "        for i in range(len(autocorrelation)):\n",
    "            k.append(autocorrelation[i][j])\n",
    "        auto_average.append(np.mean(k))\n",
    "#    print(auto_average)\n",
    "\n",
    "    l_b = np.average(bond_len)\n",
    "#    result = [x/len(av) for x in sums]\n",
    "    x = [i for i in range(len(auto_average))]\n",
    "\n",
    "    '''set negative results to 0'''\n",
    "    for r in range(len(auto_average)):\n",
    "        if auto_average[r] < 0:\n",
    "            auto_average[r] = 0\n",
    "    def expfunc(x, a):\n",
    "        return np.exp(-x/a)\n",
    "\n",
    "    exp_coeff = scipy.optimize.curve_fit(expfunc,x,auto_average)[0][0]\n",
    "\n",
    "    l_p = exp_coeff * l_b\n",
    "\n",
    "    fit = np.exp(-(x/exp_coeff))\n",
    "\n",
    "    return l_p, l_b, x, auto_average, fit, exp_coeff, unit_bonds"
   ]
  },
  {
   "cell_type": "code",
   "execution_count": null,
   "id": "d968928e-f0e7-43d0-8949-67b080634edf",
   "metadata": {},
   "outputs": [],
   "source": [
    "h = persistence_length(filepath=\"/Users/Madilyn/Projects/repos/pers_len_study/pcpdtpt_hd/30mer/cg-traj.gsd\",\n",
    "                       start=60,\n",
    "                      stop=-1,\n",
    "                      interval=10)\n",
    "l_p = h[0]\n",
    "l_b = h[1]\n",
    "x_values = h[2]\n",
    "C_n = h[3]\n",
    "exp_fit = h[4]\n",
    "unitbonds = h[6]"
   ]
  },
  {
   "cell_type": "code",
   "execution_count": null,
   "id": "0e04c5f9-a6c1-46b5-bb52-acb43709ca26",
   "metadata": {},
   "outputs": [],
   "source": [
    "print('angles', l_p)\n",
    "C_sigma = 0.36\n",
    "L_p = l_p * C_sigma * 10\n",
    "print( \"L_p=\",L_p,'angstroms')\n",
    "plt.plot(C_n,color='blue', label='data')\n",
    "plt.plot(exp_fit,color='red',label='fit')\n",
    "plt.xlabel('n')\n",
    "plt.ylabel('C_n')\n",
    "plt.title('Angles')\n",
    "plt.legend()"
   ]
  },
  {
   "cell_type": "code",
   "execution_count": null,
   "id": "50ae2631-a781-4f60-ab1f-8ad54e1416a1",
   "metadata": {},
   "outputs": [],
   "source": [
    "print('our autocorr',l_p)\n",
    "C_sigma = 0.36\n",
    "L_p = l_p * C_sigma * 10\n",
    "print( \"L_p=\",L_p,'angstroms')\n",
    "plt.plot(C_n,color='blue', label='data')\n",
    "plt.plot(exp_fit,color='red',label='fit')\n",
    "plt.title('Our Autocorrelation Function')\n",
    "plt.xlabel('n')\n",
    "plt.ylabel('C_n')\n",
    "plt.legend()"
   ]
  },
  {
   "cell_type": "code",
   "execution_count": null,
   "id": "e65cffe9-9680-4033-8a01-c0c658e246fd",
   "metadata": {},
   "outputs": [],
   "source": [
    "print('statsmodels autocorr', l_p)\n",
    "C_sigma = 0.36\n",
    "L_p = l_p * C_sigma * 10\n",
    "print( \"L_p=\",L_p,'angstroms')\n",
    "plt.plot(C_n,color='blue', label='data')\n",
    "plt.plot(exp_fit,color='red',label='fit')\n",
    "plt.title('Statsmodels Autocorrelation Function')\n",
    "plt.xlabel('n')\n",
    "plt.ylabel('C_n')\n",
    "plt.legend()"
   ]
  },
  {
   "cell_type": "code",
   "execution_count": null,
   "id": "305d6fa9-78b1-4fa8-bdb1-22560d1c5864",
   "metadata": {},
   "outputs": [],
   "source": []
  },
  {
   "cell_type": "code",
   "execution_count": null,
   "id": "369019cf-e38b-4cde-bb99-ba922a1d4c85",
   "metadata": {},
   "outputs": [],
   "source": []
  },
  {
   "cell_type": "code",
   "execution_count": null,
   "id": "6dad5ff5-6888-4eda-975b-f51c58f33c18",
   "metadata": {},
   "outputs": [],
   "source": []
  },
  {
   "cell_type": "code",
   "execution_count": null,
   "id": "5378d9cf-138e-40d4-b9fd-ffdedff10c43",
   "metadata": {},
   "outputs": [],
   "source": []
  },
  {
   "cell_type": "code",
   "execution_count": null,
   "id": "1014fc22-3a83-4133-aa36-c95f7da28dbc",
   "metadata": {},
   "outputs": [],
   "source": []
  },
  {
   "cell_type": "code",
   "execution_count": null,
   "id": "52f666e5-719d-4902-b559-e3efe71cd42a",
   "metadata": {},
   "outputs": [],
   "source": []
  },
  {
   "cell_type": "code",
   "execution_count": null,
   "id": "d146a3d0-e2b7-46cc-8f34-7177d1b8b356",
   "metadata": {},
   "outputs": [],
   "source": []
  },
  {
   "cell_type": "code",
   "execution_count": null,
   "id": "05457102-8ede-436e-a2d9-a7512c6f4a08",
   "metadata": {},
   "outputs": [],
   "source": [
    "u = mda.Universe(topology=\"/Users/Madilyn/Projects/repos/pers_len_study/pcpdtpt_hd/30mer/cg-traj.gsd\")\n",
    "\n",
    "\"\"\"rewrite atom indices\"\"\"\n",
    "bond_indices = []\n",
    "particle_index = [0]\n",
    "for i in range(len(u.bonds)):\n",
    "    a = u.bonds[i].atoms.indices\n",
    "    bond_indices.append(list(a))\n",
    "    if particle_index[-1] in bond_indices[i]:\n",
    "        atom1 = bond_indices[i][0]\n",
    "        atom2 = bond_indices[i][1]\n",
    "        if atom1 not in particle_index:\n",
    "            particle_index.append(atom1)\n",
    "        if atom2 not in particle_index:\n",
    "            particle_index.append(atom2)"
   ]
  },
  {
   "cell_type": "code",
   "execution_count": null,
   "id": "2f025db2-864c-4c39-9c7b-93dc023eb324",
   "metadata": {},
   "outputs": [],
   "source": [
    "len(bond_indices)"
   ]
  },
  {
   "cell_type": "code",
   "execution_count": null,
   "id": "3c63a25d-9e11-4fe5-88c5-336e958da552",
   "metadata": {},
   "outputs": [],
   "source": [
    "bond_len = []\n",
    "for t in u.trajectory[60:-1:10]:\n",
    "    particle_positions = []\n",
    "    bonds = []\n",
    "    unit_bonds = []\n",
    "    bond_lengths = []\n",
    "    angles = []\n",
    "    for i in particle_index:\n",
    "        pos = t.positions[i]\n",
    "        particle_positions.append(pos)\n",
    "    for i in range(len(u.bonds)):\n",
    "        b = particle_positions[i+1]-particle_positions[i]\n",
    "        bonds.append(b)\n",
    "        l2 = t.dimensions[0]/2\n",
    "        for i,b in enumerate(bonds):\n",
    "            for j,x in enumerate(b):\n",
    "                if x>l2:\n",
    "                    bonds[i][j] = x-l2*2\n",
    "                if x<-l2:\n",
    "                    bonds[i][j] = x+l2*2\n",
    "        a = b/np.linalg.norm(b)\n",
    "        unit_bonds.append(a)\n",
    "        length = np.linalg.norm(b)\n",
    "        bond_lengths.append(length)\n",
    "    bond_len.append(bond_lengths)\n",
    "\n",
    "    for i in range(len(unit_bonds)):\n",
    "        b1 = unit_bonds[0]\n",
    "        b2 = unit_bonds[0+i]\n",
    "        dot_product = np.dot(b1,b2)\n",
    "        angles.append(dot_product)"
   ]
  },
  {
   "cell_type": "code",
   "execution_count": null,
   "id": "7d0a4cf1-f3cd-4823-ae6e-ca04cb81c953",
   "metadata": {},
   "outputs": [],
   "source": [
    "len(unit_bonds)"
   ]
  },
  {
   "cell_type": "code",
   "execution_count": null,
   "id": "5143d55a-865b-42f0-ac3c-63c8155e58c7",
   "metadata": {},
   "outputs": [],
   "source": [
    "#angles = []\n",
    "#for i in range(len(unit_bonds)):\n",
    "#    for j in range(i,len(unit_bonds)):\n",
    "#        print(i,j)\n",
    "#    #b1 = unit_bonds[0]\n",
    "#    #b2 = unit_bonds[0+i]\n",
    "#    #dot_product = np.dot(b1,b2)\n",
    "#    #angles.append(dot_product)"
   ]
  },
  {
   "cell_type": "code",
   "execution_count": null,
   "id": "fd5c6a7f-61bd-4a47-a624-a79d15e38123",
   "metadata": {},
   "outputs": [],
   "source": [
    "def autocorr1D(array):\n",
    "    \"\"\"Takes in a linear np array, performs autocorrelation\n",
    "    function and returns normalized array with half the length\n",
    "    of the input.\n",
    "\n",
    "    Parameters\n",
    "    ----------\n",
    "    data : numpy.typing.Arraylike, required\n",
    "        1-D series of data to perform autocorrelation on.\n",
    "\n",
    "    Returns\n",
    "    -------\n",
    "    1D np.array\n",
    "\n",
    "    \"\"\"\n",
    "    ft = np.fft.rfft(array - np.average(array))\n",
    "    acorr = np.fft.irfft(ft * np.conjugate(ft)) / (len(array) * np.var(array))\n",
    "    #return acorr\n",
    "    return acorr[0 : len(acorr) // 2]  # noqa: E203"
   ]
  },
  {
   "cell_type": "code",
   "execution_count": null,
   "id": "94c523f8-b095-4be1-aff0-c1fa60999454",
   "metadata": {},
   "outputs": [],
   "source": [
    "import numpy as np\n",
    "import MDAnalysis as mda\n",
    "from MDAnalysis.analysis import polymer\n",
    "import matplotlib.pyplot as plt\n",
    "import scipy\n",
    "import statsmodels.api as sm"
   ]
  },
  {
   "cell_type": "code",
   "execution_count": null,
   "id": "4c9f9283-75f7-47af-bb78-9a209e02ee8f",
   "metadata": {},
   "outputs": [],
   "source": [
    "u  = mda.Universe(topology='cg-traj.gsd')\n",
    "\n",
    "bond_indices = []\n",
    "particle_index = [0]\n",
    "for i in range(len(u.bonds)):\n",
    "    a = u.bonds[i].atoms.indices\n",
    "    bond_indices.append(list(a))\n",
    "    if particle_index[-1] in bond_indices[i]:\n",
    "        atom1 = bond_indices[i][0]\n",
    "        atom2 = bond_indices[i][1]\n",
    "        if atom1 not in particle_index:\n",
    "            particle_index.append(atom1)\n",
    "        if atom2 not in particle_index:\n",
    "            particle_index.append(atom2)"
   ]
  },
  {
   "cell_type": "code",
   "execution_count": null,
   "id": "5035adc6-95e1-4f6d-a9f5-71d74e996e00",
   "metadata": {},
   "outputs": [],
   "source": [
    "autocorrelation = []\n",
    "bond_len = []\n",
    "for t in u.trajectory[1:-1:1]:\n",
    "    particle_positions = []\n",
    "    bonds = []\n",
    "    unit_bonds = []\n",
    "    bond_lengths = []\n",
    "    angles = []\n",
    "    for i in particle_index:\n",
    "        pos = t.positions[i]\n",
    "        particle_positions.append(pos)\n",
    "    for i in range(len(u.bonds)):\n",
    "        b = particle_positions[i+1]-particle_positions[i]\n",
    "        bonds.append(b)\n",
    "        l2 = t.dimensions[0]/2\n",
    "        for i,b in enumerate(bonds):\n",
    "            for j,x in enumerate(b):\n",
    "                if x>l2:\n",
    "                    bonds[i][j] = x-l2*2\n",
    "                if x<-l2:\n",
    "                    bonds[i][j] = x+l2*2\n",
    "        a = b/np.linalg.norm(b)\n",
    "        unit_bonds.append(a)\n",
    "        length = np.linalg.norm(b)\n",
    "        bond_lengths.append(length)\n",
    "    bond_len.append(bond_lengths)\n",
    "\n",
    "    for i in range(len(unit_bonds)-1):\n",
    "            b1 = unit_bonds[0]\n",
    "            b2 = unit_bonds[0+i]\n",
    "            dot_product = np.dot(b1,b2)\n",
    "            angles.append(dot_product)\n",
    "\n",
    "    n=len(u.bonds)\n",
    "    n_frames = u.trajectory.n_frames\n",
    "    n_chains = 1\n",
    "    norm = np.linspace(1,n- 1, n - 1)\n",
    "    norm *= n_chains# * n_frames\n",
    "    auto = autocorr1D(angles)\n",
    "    #auto = sm.tsa.acf(angles)\n",
    "    autocorrelation.append(auto)\n",
    "    #autocorrelation.append(angles)#/norm)\n",
    "    print(angles) "
   ]
  },
  {
   "cell_type": "code",
   "execution_count": null,
   "id": "5faff599-d480-4b6d-a56a-d196b48ae710",
   "metadata": {},
   "outputs": [],
   "source": [
    "bonds "
   ]
  },
  {
   "cell_type": "code",
   "execution_count": null,
   "id": "164b64c4-948d-4631-b275-5d91e92107a4",
   "metadata": {},
   "outputs": [],
   "source": [
    "angles = [1.0000001, 0.9999588, 0.99999666, 0.9999835, 0.99999803, 0.9999889, 0.999987, 0.9999733]\n",
    "a = angles - np.linspace(0,.5,8)\n",
    "a"
   ]
  },
  {
   "cell_type": "code",
   "execution_count": null,
   "id": "eda5d3d3-2283-4acb-996a-923ff48fe737",
   "metadata": {},
   "outputs": [],
   "source": [
    "plt.plot(autocorr1D(a))"
   ]
  },
  {
   "cell_type": "code",
   "execution_count": null,
   "id": "c06e9c33-2f60-4f6b-9403-7038e2c01f54",
   "metadata": {},
   "outputs": [],
   "source": [
    "for i in range(20):\n",
    "    y = random.randrange(u.trajectory.n_atoms):  # this is for all the atoms in the trajectory, need to fix to atomsin chain\n",
    "for i in range(len(unit_bonds)-1):\n",
    "    b1 = unit_bonds[0]\n",
    "    b2 = unit_bonds[0+i]\n",
    "    dot_product = np.dot(b1,b2)\n",
    "    angles.append(dot_product)"
   ]
  },
  {
   "cell_type": "code",
   "execution_count": null,
   "id": "42f281e4-fc90-4a65-a95e-8c7668522892",
   "metadata": {},
   "outputs": [],
   "source": [
    "import random\n",
    " \n",
    " \n",
    "for i in range(0, 5):\n",
    "     y = random.randrange(9)\n",
    "     print(i,y)\n"
   ]
  },
  {
   "cell_type": "code",
   "execution_count": null,
   "id": "b1cae8d2-d839-4eb7-9982-dbede06bed00",
   "metadata": {},
   "outputs": [],
   "source": [
    "u = mda.Universe(topology=\"/Users/Madilyn/Projects/repos/pers_len_study/pcpdtpt_hd/30mer/cg-traj.gsd\")"
   ]
  },
  {
   "cell_type": "code",
   "execution_count": null,
   "id": "3bd0a442-daa5-4c0e-908e-64519bb0d7a8",
   "metadata": {},
   "outputs": [],
   "source": []
  }
 ],
 "metadata": {
  "kernelspec": {
   "display_name": "Python 3 (ipykernel)",
   "language": "python",
   "name": "python3"
  },
  "language_info": {
   "codemirror_mode": {
    "name": "ipython",
    "version": 3
   },
   "file_extension": ".py",
   "mimetype": "text/x-python",
   "name": "python",
   "nbconvert_exporter": "python",
   "pygments_lexer": "ipython3",
   "version": "3.11.0"
  }
 },
 "nbformat": 4,
 "nbformat_minor": 5
}
