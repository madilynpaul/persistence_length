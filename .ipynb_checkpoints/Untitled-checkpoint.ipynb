{
 "cells": [
  {
   "cell_type": "code",
   "execution_count": 1,
   "id": "8cb50bdc-bc3b-4b95-a692-4cc673c84868",
   "metadata": {},
   "outputs": [],
   "source": [
    "import numpy as np"
   ]
  },
  {
   "cell_type": "code",
   "execution_count": 6,
   "id": "56bd05b7-d4ce-43db-b006-9b9b14ad65bb",
   "metadata": {},
   "outputs": [],
   "source": [
    "a = [1, 0, 0]\n",
    "b = [0,1,0]\n",
    "a2=[2,0,0]"
   ]
  },
  {
   "cell_type": "code",
   "execution_count": 3,
   "id": "f83b605a-3bba-4c79-9e61-7fcc55702b6d",
   "metadata": {},
   "outputs": [
    {
     "data": {
      "text/plain": [
       "0"
      ]
     },
     "execution_count": 3,
     "metadata": {},
     "output_type": "execute_result"
    }
   ],
   "source": [
    "np.dot(a,b)"
   ]
  },
  {
   "cell_type": "code",
   "execution_count": 5,
   "id": "44e885ac-13b4-4f7f-8f80-111c444dbebe",
   "metadata": {},
   "outputs": [
    {
     "data": {
      "text/plain": [
       "0"
      ]
     },
     "execution_count": 5,
     "metadata": {},
     "output_type": "execute_result"
    }
   ],
   "source": [
    "np.inner(a,b)"
   ]
  },
  {
   "cell_type": "code",
   "execution_count": 7,
   "id": "5a085981-e031-464a-bee6-63b5d4577028",
   "metadata": {},
   "outputs": [
    {
     "data": {
      "text/plain": [
       "2"
      ]
     },
     "execution_count": 7,
     "metadata": {},
     "output_type": "execute_result"
    }
   ],
   "source": [
    "np.inner(a,a2)"
   ]
  },
  {
   "cell_type": "code",
   "execution_count": null,
   "id": "02a6a553-987e-47df-8317-d003b8e3acb3",
   "metadata": {},
   "outputs": [],
   "source": [
    "for chain in self._atomgroups: #loop over each chain \n",
    "    # Vector from each atom to next\n",
    "    vecs = chain.positions[1:] - chain.positions[:-1]  \n",
    "    # Normalized to unit vectors\n",
    "    vecs /= np.sqrt((vecs * vecs).sum(axis=1))[:, None]\n",
    "    inner_pr = np.inner(vecs, vecs)\n",
    "    for i in range(n-1):\n",
    "        self._results[:(n-1)-i] += inner_pr[i, i:]"
   ]
  },
  {
   "cell_type": "code",
   "execution_count": 2,
   "id": "ae400a89-d407-4dfd-83ce-34d8c65c84cb",
   "metadata": {},
   "outputs": [],
   "source": [
    "import MDAnalysis as mda"
   ]
  },
  {
   "cell_type": "code",
   "execution_count": 25,
   "id": "97f0e4e5-13f0-4d51-9e10-ed7a80d7adeb",
   "metadata": {},
   "outputs": [],
   "source": [
    "u = mda.Universe(topology=\"/Users/Madilyn/Projects/repos/persistence_length/cg-traj.gsd\")"
   ]
  },
  {
   "cell_type": "code",
   "execution_count": 26,
   "id": "674cbd5c-9e8c-4ae8-9235-f991a1c2c213",
   "metadata": {},
   "outputs": [],
   "source": [
    "chains = u.atoms.fragments"
   ]
  },
  {
   "cell_type": "code",
   "execution_count": 27,
   "id": "fc632369-8fe0-49d7-a66e-4d28068a968f",
   "metadata": {},
   "outputs": [],
   "source": [
    "chain1 = chains[0]\n",
    "vecs = chain1.positions[1:]-chain1.positions[:-1]"
   ]
  },
  {
   "cell_type": "code",
   "execution_count": 28,
   "id": "ccafa6a8-bc5c-4177-b94c-11b793fd737d",
   "metadata": {},
   "outputs": [
    {
     "data": {
      "text/plain": [
       "array([[1.5532817, 1.5533003, 1.5532907, 1.5532811, 1.5532588, 1.5532846,\n",
       "        1.5533029, 1.553284 , 1.5532895],\n",
       "       [1.5533003, 1.5533186, 1.5533092, 1.5532997, 1.5532773, 1.5533032,\n",
       "        1.5533214, 1.5533025, 1.553308 ],\n",
       "       [1.5532907, 1.5533092, 1.5532998, 1.5532901, 1.5532678, 1.5532938,\n",
       "        1.553312 , 1.5532931, 1.5532986],\n",
       "       [1.5532811, 1.5532997, 1.5532901, 1.5532805, 1.5532582, 1.553284 ,\n",
       "        1.5533023, 1.5532835, 1.5532889],\n",
       "       [1.5532588, 1.5532773, 1.5532678, 1.5532582, 1.5532358, 1.5532616,\n",
       "        1.5532799, 1.553261 , 1.5532665],\n",
       "       [1.5532846, 1.5533032, 1.5532938, 1.553284 , 1.5532616, 1.5532876,\n",
       "        1.553306 , 1.553287 , 1.5532926],\n",
       "       [1.5533029, 1.5533214, 1.553312 , 1.5533023, 1.5532799, 1.553306 ,\n",
       "        1.5533242, 1.5533051, 1.5533109],\n",
       "       [1.553284 , 1.5533025, 1.5532931, 1.5532835, 1.553261 , 1.553287 ,\n",
       "        1.5533051, 1.5532863, 1.5532918],\n",
       "       [1.5532895, 1.553308 , 1.5532986, 1.5532889, 1.5532665, 1.5532926,\n",
       "        1.5533109, 1.5532918, 1.5532974]], dtype=float32)"
      ]
     },
     "execution_count": 28,
     "metadata": {},
     "output_type": "execute_result"
    }
   ],
   "source": [
    "np.inner(vecs,vecs)"
   ]
  },
  {
   "cell_type": "code",
   "execution_count": 29,
   "id": "9d92a90c-4ba0-4598-8d10-002675c159c1",
   "metadata": {},
   "outputs": [
    {
     "data": {
      "text/plain": [
       "1.5532817"
      ]
     },
     "execution_count": 29,
     "metadata": {},
     "output_type": "execute_result"
    }
   ],
   "source": [
    "np.inner(vecs[0],vecs[0])"
   ]
  },
  {
   "cell_type": "code",
   "execution_count": 23,
   "id": "703848e5-32f3-4287-b5f3-7e5cdabec957",
   "metadata": {},
   "outputs": [
    {
     "data": {
      "text/plain": [
       "10.672124"
      ]
     },
     "execution_count": 23,
     "metadata": {},
     "output_type": "execute_result"
    }
   ],
   "source": [
    "np.inner(vecs[1],vecs[2])"
   ]
  },
  {
   "cell_type": "code",
   "execution_count": 30,
   "id": "b11b75ba-32d5-44a8-8c08-776e005f2234",
   "metadata": {},
   "outputs": [
    {
     "data": {
      "text/plain": [
       "10"
      ]
     },
     "execution_count": 30,
     "metadata": {},
     "output_type": "execute_result"
    }
   ],
   "source": [
    "chain1.n_atoms"
   ]
  },
  {
   "cell_type": "code",
   "execution_count": 31,
   "id": "699a1b5a-9b86-4e8a-82ad-48beba04a8ee",
   "metadata": {},
   "outputs": [
    {
     "data": {
      "text/plain": [
       "59"
      ]
     },
     "execution_count": 31,
     "metadata": {},
     "output_type": "execute_result"
    }
   ],
   "source": [
    "_results = np.zeros(n - 1, dtype=np.float32)\n",
    "len(_results)"
   ]
  },
  {
   "cell_type": "code",
   "execution_count": 36,
   "id": "d663029b-d003-4351-9941-ea4a7bd3272b",
   "metadata": {},
   "outputs": [
    {
     "name": "stdout",
     "output_type": "stream",
     "text": [
      "[1.5532817 1.5533003 1.5532907 1.5532811 1.5532588 1.5532846 1.5533029\n",
      " 1.553284  1.5532895]\n",
      "[3.1066003 3.1066093 3.1065903 3.1065583 3.1065621 3.106606  3.1066055\n",
      " 3.1065922 1.5532895]\n",
      "[4.6599    4.6598997 4.659858  4.659852  4.659874  4.659899  4.659904\n",
      " 3.1065922 1.5532895]\n",
      "[6.2131805 6.2131577 6.2131424 6.2131543 6.2131577 6.213188  4.659904\n",
      " 3.1065922 1.5532895]\n",
      "[7.7664165 7.7664194 7.7664223 7.7664156 7.766424  6.213188  4.659904\n",
      " 3.1065922 1.5532895]\n",
      "[9.319704  9.319725  9.31971   9.319708  7.766424  6.213188  4.659904\n",
      " 3.1065922 1.5532895]\n",
      "[10.873028  10.87303   10.87302    9.319708   7.766424   6.213188\n",
      "  4.659904   3.1065922  1.5532895]\n",
      "[12.426314  12.426321  10.87302    9.319708   7.766424   6.213188\n",
      "  4.659904   3.1065922  1.5532895]\n",
      "[13.979611  12.426321  10.87302    9.319708   7.766424   6.213188\n",
      "  4.659904   3.1065922  1.5532895]\n"
     ]
    }
   ],
   "source": [
    "n= chain1.n_atoms\n",
    "_results = np.zeros(n - 1, dtype=np.float32)\n",
    "inner_pr = np.inner(vecs, vecs)\n",
    "for i in range(n-1):\n",
    "    _results[:(n-1)-i] += inner_pr[i, i:]\n",
    "    print(_results)"
   ]
  },
  {
   "cell_type": "code",
   "execution_count": 37,
   "id": "1c429811-88cc-4eb2-ba40-a0d5dd4e70aa",
   "metadata": {},
   "outputs": [
    {
     "data": {
      "text/plain": [
       "array([13.979611 , 12.426321 , 10.87302  ,  9.319708 ,  7.766424 ,\n",
       "        6.213188 ,  4.659904 ,  3.1065922,  1.5532895], dtype=float32)"
      ]
     },
     "execution_count": 37,
     "metadata": {},
     "output_type": "execute_result"
    }
   ],
   "source": [
    "_results"
   ]
  },
  {
   "cell_type": "code",
   "execution_count": 38,
   "id": "ee41841d-ddb3-4b5d-830a-e0cf82863848",
   "metadata": {},
   "outputs": [
    {
     "data": {
      "text/plain": [
       "10"
      ]
     },
     "execution_count": 38,
     "metadata": {},
     "output_type": "execute_result"
    }
   ],
   "source": [
    "n = len(chains[0])\n",
    "n"
   ]
  },
  {
   "cell_type": "code",
   "execution_count": 39,
   "id": "60a0f930-52f6-4bee-b546-cae0e40ce598",
   "metadata": {},
   "outputs": [],
   "source": [
    "n = len(chains[0])\n",
    "norm = np.linspace(n - 1, 1, n - 1)\n",
    "norm *= 1 * u.trajectory.n_frames\n",
    "bond_autocorrelation = _results / norm\n"
   ]
  },
  {
   "cell_type": "code",
   "execution_count": 22,
   "id": "1e7d7ab5-badd-41aa-ba2a-5348fa9e6001",
   "metadata": {},
   "outputs": [
    {
     "data": {
      "text/plain": [
       "array([[11.948092 , 10.6721   ,  7.4188247, ..., 10.525332 , 12.093566 ,\n",
       "        11.04436  ],\n",
       "       [10.6721   , 11.948098 , 10.672124 , ...,  7.0458975, 10.525336 ,\n",
       "        12.093588 ],\n",
       "       [ 7.4188247, 10.672124 , 11.947926 , ...,  3.222186 ,  7.045905 ,\n",
       "        10.525344 ],\n",
       "       ...,\n",
       "       [10.525332 ,  7.0458975,  3.222186 , ..., 12.27237  , 10.92343  ,\n",
       "         7.484009 ],\n",
       "       [12.093566 , 10.525336 ,  7.045905 , ..., 10.92343  , 12.272504 ,\n",
       "        10.923533 ],\n",
       "       [11.04436  , 12.093588 , 10.525344 , ...,  7.484009 , 10.923533 ,\n",
       "        12.272553 ]], dtype=float32)"
      ]
     },
     "execution_count": 22,
     "metadata": {},
     "output_type": "execute_result"
    }
   ],
   "source": [
    "inner_pr"
   ]
  },
  {
   "cell_type": "code",
   "execution_count": 21,
   "id": "d1beeb00-6f0b-4712-b6b9-9c48aa14fb2c",
   "metadata": {},
   "outputs": [
    {
     "data": {
      "text/plain": [
       "array([ 5.79440381e+03,  2.35376205e+02,  4.78056221e+01, -1.52187347e+02,\n",
       "       -2.83412506e+02, -2.99478363e+02, -2.05201065e+02, -5.03170128e+01,\n",
       "        9.49494781e+01,  1.70427795e+02,  1.49482544e+02,  4.63942757e+01,\n",
       "       -9.34971161e+01, -2.15021271e+02, -2.75755798e+02, -2.60872864e+02,\n",
       "       -1.85453278e+02, -8.51700134e+01, -7.70016670e-01,  3.70477524e+01,\n",
       "        1.68780975e+01, -5.20558853e+01, -1.45407410e+02, -2.32901550e+02,\n",
       "       -2.87971771e+02, -2.95216248e+02, -2.54335266e+02, -1.80267365e+02,\n",
       "       -9.92579956e+01, -4.15216522e+01,  3.43499512e+02,  2.65929352e+02,\n",
       "        1.53948700e+02,  5.63447075e+01,  1.21296968e+01,  3.39230537e+01,\n",
       "        1.04279854e+02,  1.85707932e+02,  2.38894760e+02,  2.40326569e+02,\n",
       "        1.91407135e+02,  1.15628304e+02,  4.60592194e+01,  9.65624332e+00,\n",
       "        1.58187208e+01,  5.40320435e+01,  1.00814095e+02,  1.31841873e+02,\n",
       "        1.33096344e+02,  1.05923248e+02,  6.42922440e+01,  2.64525681e+01,\n",
       "        5.66413498e+00,  4.65638685e+00,  1.61110229e+01,  2.81837273e+01,\n",
       "        3.15760117e+01,  2.41871529e+01,  1.10443602e+01], dtype=float32)"
      ]
     },
     "execution_count": 21,
     "metadata": {},
     "output_type": "execute_result"
    }
   ],
   "source": [
    "_results"
   ]
  },
  {
   "cell_type": "code",
   "execution_count": 20,
   "id": "26c2fcc1-30bb-4322-b3f5-648354d99cdf",
   "metadata": {},
   "outputs": [
    {
     "data": {
      "text/plain": [
       "array([35518., 34916., 34314., 33712., 33110., 32508., 31906., 31304.,\n",
       "       30702., 30100., 29498., 28896., 28294., 27692., 27090., 26488.,\n",
       "       25886., 25284., 24682., 24080., 23478., 22876., 22274., 21672.,\n",
       "       21070., 20468., 19866., 19264., 18662., 18060., 17458., 16856.,\n",
       "       16254., 15652., 15050., 14448., 13846., 13244., 12642., 12040.,\n",
       "       11438., 10836., 10234.,  9632.,  9030.,  8428.,  7826.,  7224.,\n",
       "        6622.,  6020.,  5418.,  4816.,  4214.,  3612.,  3010.,  2408.,\n",
       "        1806.,  1204.,   602.])"
      ]
     },
     "execution_count": 20,
     "metadata": {},
     "output_type": "execute_result"
    }
   ],
   "source": [
    "norm"
   ]
  },
  {
   "cell_type": "code",
   "execution_count": 41,
   "id": "6636f0df-58b4-4732-88fb-910dc4b24fae",
   "metadata": {},
   "outputs": [
    {
     "data": {
      "text/plain": [
       "[<matplotlib.lines.Line2D at 0x175e113d0>]"
      ]
     },
     "execution_count": 41,
     "metadata": {},
     "output_type": "execute_result"
    },
    {
     "data": {
      "image/png": "[encoded data removed]",
      "text/plain": [
       "<Figure size 640x480 with 1 Axes>"
      ]
     },
     "metadata": {},
     "output_type": "display_data"
    }
   ],
   "source": [
    "import matplotlib.pyplot as plt\n",
    "plt.plot(bond_autocorrelation)\n",
    "#plt.plot(_results)"
   ]
  },
  {
   "cell_type": "code",
   "execution_count": null,
   "id": "5f056134-6657-4757-b270-bd82c7057e51",
   "metadata": {},
   "outputs": [],
   "source": []
  }
 ],
 "metadata": {
  "kernelspec": {
   "display_name": "Python 3 (ipykernel)",
   "language": "python",
   "name": "python3"
  },
  "language_info": {
   "codemirror_mode": {
    "name": "ipython",
    "version": 3
   },
   "file_extension": ".py",
   "mimetype": "text/x-python",
   "name": "python",
   "nbconvert_exporter": "python",
   "pygments_lexer": "ipython3",
   "version": "3.11.0"
  }
 },
 "nbformat": 4,
 "nbformat_minor": 5
}
